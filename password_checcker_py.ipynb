{
  "nbformat": 4,
  "nbformat_minor": 0,
  "metadata": {
    "colab": {
      "provenance": [],
      "authorship_tag": "ABX9TyPZ+1R4yNYxgX8/OgRKev0S",
      "include_colab_link": true
    },
    "kernelspec": {
      "name": "python3",
      "display_name": "Python 3"
    },
    "language_info": {
      "name": "python"
    }
  },
  "cells": [
    {
      "cell_type": "markdown",
      "metadata": {
        "id": "view-in-github",
        "colab_type": "text"
      },
      "source": [
        "<a href=\"https://colab.research.google.com/github/abonti123/Cuda-And-OpenCV-implemented-for-object-detection-using-YOLO-architecture/blob/main/password_checcker_py.ipynb\" target=\"_parent\"><img src=\"https://colab.research.google.com/assets/colab-badge.svg\" alt=\"Open In Colab\"/></a>"
      ]
    },
    {
      "cell_type": "code",
      "execution_count": null,
      "metadata": {
        "colab": {
          "base_uri": "https://localhost:8080/"
        },
        "id": "hlXhIT2VQz-G",
        "outputId": "3f4641fb-09fd-4ebe-9443-ba493a4cefbe"
      },
      "outputs": [
        {
          "name": "stdout",
          "output_type": "stream",
          "text": [
            "+++ welcome to PWD checker +++\n",
            "Do you want to check pwd (y/n): y\n",
            "Enter Password: ··········\n",
            "Your password has: \n",
            "5 lowercase characters\n",
            "1 uppercase characters\n",
            "3 numeric characters\n",
            "0 whitespace characters\n",
            "1 special characters\n",
            "Password Strength:4\n",
            "Hint: It's a hard password, but can be better\n",
            "Do you want to enter another pwd (y/n): n\n"
          ]
        }
      ],
      "source": [
        "\n",
        "\n",
        "\n",
        "import string\n",
        "import getpass\n",
        "\n",
        "def check_pwd():\n",
        "    password = getpass.getpass(\"Enter Password: \")\n",
        "    strength = 0\n",
        "    remarks = ''\n",
        "    lower_count = upper_count = num_count = wspace_count = special_count = 0\n",
        "\n",
        "    for char in list(password):\n",
        "        if char in string.ascii_lowercase:\n",
        "            lower_count += 1\n",
        "        elif char in string.ascii_uppercase:\n",
        "            upper_count +=1\n",
        "        elif char in string.digits:\n",
        "            num_count += 1\n",
        "        elif char == ' ':\n",
        "            wspace_count +=1\n",
        "        else:\n",
        "            special_count +=1\n",
        "\n",
        "    if lower_count >= 1:\n",
        "        strength +=1\n",
        "    if upper_count >= 1:\n",
        "        strength +=1\n",
        "    if num_count >= 1:\n",
        "        strength +=1\n",
        "    if wspace_count>=1:\n",
        "        strength +=1\n",
        "    if special_count>=1:\n",
        "        strength +=1\n",
        "\n",
        "    if strength == 1:\n",
        "        remarks = \"Very Bad Password!!! Change ASAP\"\n",
        "    elif strength == 2:\n",
        "        remarks = \"Not A Good Password!!! Change ASAP\"\n",
        "    elif strength ==3:\n",
        "        remarks = \"It's a weak password, consider changing\"\n",
        "    elif strength == 4:\n",
        "        remarks = \"It's a hard password, but can be better\"\n",
        "    elif strength == 5:\n",
        "        remarks = \"A very strong password\"\n",
        "\n",
        "    print('Your password has: ')\n",
        "    print(f\"{lower_count} lowercase characters\")\n",
        "    print(f\"{upper_count} uppercase characters\")\n",
        "    print(f\"{num_count} numeric characters\")\n",
        "    print(f\"{wspace_count} whitespace characters\")\n",
        "    print(f\"{special_count} special characters\")\n",
        "\n",
        "    print(f\"Password Strength:{strength}\")\n",
        "    print(f\"Hint: {remarks}\")\n",
        "\n",
        "def ask_pwd(another_pwd=False):\n",
        "    valid = False\n",
        "    if another_pwd:\n",
        "        choice=input('Do you want to enter another pwd (y/n): ')\n",
        "    else:\n",
        "        choice=input('Do you want to check pwd (y/n): ')\n",
        "\n",
        "    while not valid:\n",
        "        if choice.lower() == 'y':\n",
        "            return True\n",
        "        elif choice.lower() == 'n':\n",
        "            return False\n",
        "        else:\n",
        "            print('Invalid, Try Again')\n",
        "\n",
        "if __name__ == '__main__':\n",
        "    print('+++ welcome to PWD checker +++')\n",
        "    ask_pw = ask_pwd()\n",
        "    while check_pwd:\n",
        "        check_pwd()\n",
        "        ask_pw = ask_pwd(True)"
      ]
    }
  ]
}